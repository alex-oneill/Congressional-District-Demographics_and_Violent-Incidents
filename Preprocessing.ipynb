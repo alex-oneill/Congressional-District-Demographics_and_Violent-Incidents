{
 "metadata": {
  "language_info": {
   "codemirror_mode": {
    "name": "ipython",
    "version": 3
   },
   "file_extension": ".py",
   "mimetype": "text/x-python",
   "name": "python",
   "nbconvert_exporter": "python",
   "pygments_lexer": "ipython3",
   "version": "3.8.3-final"
  },
  "orig_nbformat": 2,
  "kernelspec": {
   "name": "python38364bitconda6dc6248a434740af8c8bc5dd38562204",
   "display_name": "Python 3.8.3 64-bit (conda)"
  }
 },
 "nbformat": 4,
 "nbformat_minor": 2,
 "cells": [
  {
   "cell_type": "code",
   "execution_count": null,
   "metadata": {},
   "outputs": [],
   "source": [
    "import pandas as pd\n",
    "import numpy as np\n",
    "pd.set_option('display.max_columns', None)"
   ]
  },
  {
   "source": [
    "# 1: PROCESS GUN VIOLENCE DATA AND ADD COLUMNS #"
   ],
   "cell_type": "markdown",
   "metadata": {}
  },
  {
   "cell_type": "code",
   "execution_count": null,
   "metadata": {},
   "outputs": [],
   "source": [
    "gunvDF = pd.read_csv(\"gun-violence-data_01-2013_03-2018.csv\")"
   ]
  },
  {
   "cell_type": "code",
   "execution_count": null,
   "metadata": {},
   "outputs": [],
   "source": [
    "gunvDF.to_csv(\"gun-violence-data_PROCESSED.csv\", index=False)"
   ]
  },
  {
   "source": [
    "## *A: Add State Abbreviations* ##"
   ],
   "cell_type": "markdown",
   "metadata": {}
  },
  {
   "cell_type": "code",
   "execution_count": null,
   "metadata": {},
   "outputs": [],
   "source": [
    "gunvDF.insert(3, \"state_abv\", gunvDF[\"state\"])"
   ]
  },
  {
   "cell_type": "code",
   "execution_count": null,
   "metadata": {},
   "outputs": [],
   "source": [
    "stateabrDF = pd.read_csv(\"census_votingAgeSexPoverty.csv\")\n",
    "stateabrDF = stateabrDF[[\"state_abv\", \"state\"]]\n",
    "stateabrDF.drop_duplicates(inplace=True)\n",
    "stateabrDF.to_csv(\"stateAbreviations.csv\", index=False)"
   ]
  },
  {
   "cell_type": "code",
   "execution_count": null,
   "metadata": {},
   "outputs": [],
   "source": [
    "lookup = pd.DataFrame({'label': [\"AL\",\"AK\",\"AZ\",\"AR\",\"CA\",\"CO\",\"CT\",\"DE\",\"DC\",\"FL\",\"GA\",\"HI\",\"ID\",\"IL\",\"IN\",\"IA\", \\\n",
    "                                \"KS\",\"KY\",\"LA\",\"ME\",\"MD\",\"MA\",\"MI\",\"MN\",\"MS\",\"MO\",\"MT\",\"NE\",\"NV\",\"NH\",\"NJ\",\"NM\",\"NY\",\"NC\", \\\n",
    "                                \"ND\",\"OH\",\"OK\",\"OR\",\"PA\",\"RI\",\"SC\",\"SD\",\"TN\",\"TX\",\"UT\",\"VT\",\"VA\",\"WA\",\"WV\",\"WI\",\"WY\"],\n",
    "                        'id': [\"Alabama\",\"Alaska\",\"Arizona\",\"Arkansas\",\"California\",\"Colorado\",\"Connecticut\",\"Delaware\", \\\n",
    "                                \"District of Columbia\",\"Florida\",\"Georgia\",\"Hawaii\",\"Idaho\",\"Illinois\",\"Indiana\",\"Iowa\",\"Kansas\", \\\n",
    "                                \"Kentucky\",\"Louisiana\",\"Maine\",\"Maryland\",\"Massachusetts\",\"Michigan\",\"Minnesota\",\"Mississippi\", \\\n",
    "                                \"Missouri\",\"Montana\",\"Nebraska\",\"Nevada\",\"New Hampshire\",\"New Jersey\",\"New Mexico\",\"New York\",\"North Carolina\", \\\n",
    "                                \"North Dakota\",\"Ohio\",\"Oklahoma\",\"Oregon\",\"Pennsylvania\",\"Rhode Island\",\"South Carolina\",\"South Dakota\", \\\n",
    "                                \"Tennessee\",\"Texas\",\"Utah\",\"Vermont\",\"Virginia\",\"Washington\",\"West Virginia\",\"Wisconsin\",\"Wyoming\"]\n",
    "                        })"
   ]
  },
  {
   "cell_type": "code",
   "execution_count": null,
   "metadata": {},
   "outputs": [],
   "source": [
    "gunvDF[\"state_abv\"].replace(dict(zip(lookup.id, lookup.label)), inplace=True)"
   ]
  },
  {
   "source": [
    "## *B: Add Concat State+District* ##"
   ],
   "cell_type": "markdown",
   "metadata": {}
  },
  {
   "cell_type": "code",
   "execution_count": null,
   "metadata": {},
   "outputs": [],
   "source": [
    "gunvDF[\"congressional_district\"].fillna(0, inplace=True)"
   ]
  },
  {
   "cell_type": "code",
   "execution_count": null,
   "metadata": {},
   "outputs": [],
   "source": [
    "gunvDF[\"congressional_district\"] = gunvDF[\"congressional_district\"].astype(int)\n",
    "gunvDF.loc[gunvDF.congressional_district == 0, \"congressional_district\"] = \"UNK\"\n",
    "gunvDF[\"congressional_district\"] = gunvDF[\"congressional_district\"].astype(str)"
   ]
  },
  {
   "cell_type": "code",
   "execution_count": null,
   "metadata": {},
   "outputs": [],
   "source": [
    "gunvDF.loc[gunvDF.state_abv == \"AK\", \"congressional_district\"] = \"At-large\"\n",
    "gunvDF.loc[gunvDF.state_abv == \"DE\", \"congressional_district\"] = \"At-large\"\n",
    "gunvDF.loc[gunvDF.state_abv == \"DC\", \"congressional_district\"] = \"At-large\"\n",
    "gunvDF.loc[gunvDF.state_abv == \"MT\", \"congressional_district\"] = \"At-large\"\n",
    "gunvDF.loc[gunvDF.state_abv == \"ND\", \"congressional_district\"] = \"At-large\"\n",
    "gunvDF.loc[gunvDF.state_abv == \"SD\", \"congressional_district\"] = \"At-large\"\n",
    "gunvDF.loc[gunvDF.state_abv == \"VT\", \"congressional_district\"] = \"At-large\"\n",
    "gunvDF.loc[gunvDF.state_abv == \"WY\", \"congressional_district\"] = \"At-large\""
   ]
  },
  {
   "cell_type": "code",
   "execution_count": null,
   "metadata": {},
   "outputs": [],
   "source": [
    "gunvDF.insert(4, \"state_house_dist\", gunvDF[\"state_abv\"]+\"-\"+(gunvDF[\"congressional_district\"].map(str)))"
   ]
  },
  {
   "source": [
    "# 2: PROCESS AND COMBINE CENSUS DATA #"
   ],
   "cell_type": "markdown",
   "metadata": {}
  },
  {
   "cell_type": "code",
   "execution_count": null,
   "metadata": {},
   "outputs": [],
   "source": [
    "eduDF = pd.read_csv('census_votingAgeEducation.csv')\n",
    "ageDF = pd.read_csv('census_votingAgePopulation.csv')\n",
    "raceDF = pd.read_csv('census_votingAgeRace.csv')\n",
    "sex_povDF = pd.read_csv('census_votingAgeSexPoverty.csv')\n",
    "voteRatesDF = pd.read_csv('census_votingPopulationRates.csv')"
   ]
  },
  {
   "cell_type": "code",
   "execution_count": null,
   "metadata": {},
   "outputs": [],
   "source": [
    "eduDF.insert(4, \"state_house_dist\", eduDF[\"state_abv\"]+\"-\"+(eduDF[\"house_district\"].map(str)))\n",
    "ageDF.insert(4, \"state_house_dist\", ageDF[\"state_abv\"]+\"-\"+(ageDF[\"house_district\"].map(str)))\n",
    "raceDF.insert(4, \"state_house_dist\", raceDF[\"state_abv\"]+\"-\"+(raceDF[\"house_district\"].map(str)))\n",
    "sex_povDF.insert(4, \"state_house_dist\", sex_povDF[\"state_abv\"]+\"-\"+(sex_povDF[\"house_district\"].map(str)))\n",
    "voteRatesDF.insert(4, \"state_house_dist\", voteRatesDF[\"state_abv\"]+\"-\"+(voteRatesDF[\"house_district\"].map(str)))"
   ]
  },
  {
   "cell_type": "code",
   "execution_count": null,
   "metadata": {},
   "outputs": [],
   "source": [
    "census_MASTER = pd.concat([\n",
    "    eduDF['state_abv'],eduDF['state_house_dist'],eduDF['edu_votingage_est'],eduDF['edu_ltgrade9_perc'],eduDF['edu_9to12_perc'],eduDF['edu_hs_perc']\n",
    "    ,eduDF['edu_somecollege_perc'],eduDF['edu_bachelor_perc'],eduDF['edu_graduate_perc'],eduDF['edu_hsormore_perc'],eduDF['edu_bachormore_perc']\n",
    "    ,ageDF['state_abv'],ageDF['state_house_dist'],ageDF['pop_votingage_est'],ageDF['age_18to29_perc'],ageDF['age_30to44_perc'],ageDF['age_45to64_perc'],ageDF['age_65plus_perc']\n",
    "    ,raceDF['state_abv'],raceDF['state_house_dist'],raceDF['pop_votingage_est'],raceDF['race_white_perc'],raceDF['race_black_perc'],raceDF['race_asian_perc']\n",
    "    ,raceDF['race_native_perc'],raceDF['race_pacisland_perc'],raceDF['race_otherrace_perc'],raceDF['race_mixedrace_perc'],raceDF['race_hispanic_perc'],raceDF['race_wtnonhispanic_perc']\n",
    "    ,sex_povDF['state_abv'],sex_povDF['state_house_dist'],sex_povDF['pop_votingage_est'],sex_povDF['male_perc']\n",
    "    ,sex_povDF['female_perc'],sex_povDF['povertyuniverse_est'],sex_povDF['poverty_perc']\n",
    "    ,voteRatesDF['state_abv'],voteRatesDF['state_house_dist'],voteRatesDF['pop_votingage_est'],voteRatesDF['votes_casts'],voteRatesDF['pop_votingrate_perc']\n",
    "    ], axis=1)"
   ]
  },
  {
   "cell_type": "code",
   "execution_count": null,
   "metadata": {},
   "outputs": [],
   "source": [
    "census_MASTER.to_csv(\"census_MASTER.csv\", index=False)"
   ]
  },
  {
   "source": [
    "# 3: PROCESS AND COMBINE REPRESENTATIVE DATA #"
   ],
   "cell_type": "markdown",
   "metadata": {}
  },
  {
   "cell_type": "code",
   "execution_count": null,
   "metadata": {},
   "outputs": [],
   "source": [
    "DF108 = pd.read_csv(\"108-2003-01-06_2005-01-03.csv\")\n",
    "DF109 = pd.read_csv(\"109-2005-01-06_2007-01-03.csv\")\n",
    "DF110 = pd.read_csv(\"110-2007-01-06_2009-01-03.csv\")\n",
    "DF111 = pd.read_csv(\"111-2009-01-06_2011-01-03.csv\")\n",
    "DF112 = pd.read_csv(\"112-2011-01-06_2013-01-03.csv\")\n",
    "DF113 = pd.read_csv(\"113-2013-01-06_2015-01-03.csv\")\n",
    "DF114 = pd.read_csv(\"114-2015-01-06_2017-01-03.csv\")\n",
    "DF115 = pd.read_csv(\"115-2017-01-03_2019-01-03.csv\")"
   ]
  },
  {
   "cell_type": "code",
   "execution_count": null,
   "metadata": {},
   "outputs": [],
   "source": [
    "representatives_MASTER = pd.concat([DF108, DF109, DF110, DF111, DF112, DF113, DF114, DF115])"
   ]
  },
  {
   "cell_type": "code",
   "execution_count": null,
   "metadata": {},
   "outputs": [],
   "source": [
    "representatives_MASTER = representatives_MASTER.drop(['id', 'sort_name', 'email', 'twitter', 'facebook',\n",
    "       'group_id', 'area', 'chamber', 'image', 'gender', 'wikidata', 'wikidata_group', 'wikidata_area'], axis=1)"
   ]
  },
  {
   "cell_type": "code",
   "execution_count": null,
   "metadata": {},
   "outputs": [],
   "source": [
    "representatives_MASTER.loc[(representatives_MASTER[\"term\"]==108), \"termStart\"] = \"2003-JAN\"\n",
    "representatives_MASTER.loc[(representatives_MASTER[\"term\"]==108), \"termEnd\"] = \"2005-JAN\"\n",
    "representatives_MASTER.loc[(representatives_MASTER[\"term\"]==109), \"termStart\"] = \"2005-JAN\"\n",
    "representatives_MASTER.loc[(representatives_MASTER[\"term\"]==109), \"termEnd\"] = \"2007-JAN\"\n",
    "representatives_MASTER.loc[(representatives_MASTER[\"term\"]==110), \"termStart\"] = \"2007-JAN\"\n",
    "representatives_MASTER.loc[(representatives_MASTER[\"term\"]==110), \"termEnd\"] = \"2009-JAN\"\n",
    "representatives_MASTER.loc[(representatives_MASTER[\"term\"]==111), \"termStart\"] = \"2009-JAN\"\n",
    "representatives_MASTER.loc[(representatives_MASTER[\"term\"]==111), \"termEnd\"] = \"2011-JAN\"\n",
    "representatives_MASTER.loc[(representatives_MASTER[\"term\"]==112), \"termStart\"] = \"2011-JAN\"\n",
    "representatives_MASTER.loc[(representatives_MASTER[\"term\"]==112), \"termEnd\"] = \"2013-JAN\"\n",
    "representatives_MASTER.loc[(representatives_MASTER[\"term\"]==113), \"termStart\"] = \"2013-JAN\"\n",
    "representatives_MASTER.loc[(representatives_MASTER[\"term\"]==113), \"termEnd\"] = \"2015-JAN\"\n",
    "representatives_MASTER.loc[(representatives_MASTER[\"term\"]==114), \"termStart\"] = \"2015-JAN\"\n",
    "representatives_MASTER.loc[(representatives_MASTER[\"term\"]==114), \"termEnd\"] = \"2017-JAN\"\n",
    "representatives_MASTER.loc[(representatives_MASTER[\"term\"]==115), \"termStart\"] = \"2017-JAN\"\n",
    "representatives_MASTER.loc[(representatives_MASTER[\"term\"]==115), \"termEnd\"] = \"2019-JAN\""
   ]
  },
  {
   "cell_type": "code",
   "execution_count": null,
   "metadata": {},
   "outputs": [],
   "source": [
    "representatives_MASTER.to_csv(\"representatives_MASTER.csv\", index=False)"
   ]
  },
  {
   "source": [
    "# 4: COMBINE VIOLENCE AND CENSUS DATA BY DISTRICT #"
   ],
   "cell_type": "markdown",
   "metadata": {}
  },
  {
   "cell_type": "code",
   "execution_count": null,
   "metadata": {},
   "outputs": [],
   "source": [
    "gunvDF = pd.read_csv(\"gun-violence-data_PROCESSED.csv\")\n",
    "censusDF = pd.read_csv(\"census_MASTER.csv\")"
   ]
  },
  {
   "cell_type": "code",
   "execution_count": null,
   "metadata": {},
   "outputs": [],
   "source": [
    "# DROP YEAR 2013 -- HAS LESS THAN 200 RECORDS WHICH IS NOT ACCURATE\n",
    "# DROP YEAR 2018 -- HAS ONLY 3 MONTHS OF DATA\n",
    "\n",
    "gunvDF[[\"year\", \"month\", \"day\"]] = gunvDF[\"date\"].str.split('-', expand=True)\n",
    "gunvDF.drop(gunvDF[gunvDF.year == \"2013\"].index, inplace=True)\n",
    "gunvDF.drop(gunvDF[gunvDF.year == \"2018\"].index, inplace=True)\n",
    "gunvDF.drop(['date', 'state', 'state_abv', 'city_or_county', 'address', 'n_killed', 'n_injured', 'incident_url',\n",
    "       'source_url', 'incident_url_fields_missing', 'congressional_district',\n",
    "       'gun_stolen', 'gun_type', 'incident_characteristics', 'latitude',\n",
    "       'location_description', 'longitude', 'n_guns_involved', 'notes',\n",
    "       'participant_age', 'participant_age_group', 'participant_gender',\n",
    "       'participant_name', 'participant_relationship', 'participant_status',\n",
    "       'participant_type', 'sources', 'state_house_district',\n",
    "       'state_senate_district'], axis=1, inplace=True)"
   ]
  },
  {
   "cell_type": "code",
   "execution_count": null,
   "metadata": {},
   "outputs": [],
   "source": [
    "grouped = gunvDF.groupby([\"state_house_dist\"]).count().reset_index()\n",
    "grouped.drop([\"year\", \"month\", \"day\"], axis=1, inplace=True)\n",
    "grouped.rename({\"incident_id\": \"count_of_inc\"}, axis=1, inplace=True)"
   ]
  },
  {
   "cell_type": "code",
   "execution_count": null,
   "metadata": {},
   "outputs": [],
   "source": [
    "vio_censusDF = grouped.join(censusDF.set_index(\"state_house_dist\"), on=\"state_house_dist\")"
   ]
  },
  {
   "cell_type": "code",
   "execution_count": null,
   "metadata": {},
   "outputs": [],
   "source": [
    "vio_censusDF.columns"
   ]
  },
  {
   "cell_type": "code",
   "execution_count": null,
   "metadata": {},
   "outputs": [],
   "source": [
    "vio_censusDF.drop(['edu_votingage_est', 'state_abv.1', 'state_house_dist.1', 'state_abv.2',\n",
    "       'state_house_dist.2', 'pop_votingage_est.1', 'state_abv.3',\n",
    "       'state_house_dist.3', 'pop_votingage_est.2', 'state_abv.4',\n",
    "       'state_house_dist.4', 'pop_votingage_est.3'], axis=1, inplace=True)"
   ]
  },
  {
   "cell_type": "code",
   "execution_count": null,
   "metadata": {},
   "outputs": [],
   "source": [
    "vio_censusDF.to_csv(\"violence_census_MASTER.csv\", index=False)"
   ]
  }
 ]
}